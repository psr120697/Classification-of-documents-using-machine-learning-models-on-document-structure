{
 "cells": [
  {
   "cell_type": "code",
   "execution_count": 1,
   "metadata": {},
   "outputs": [
    {
     "name": "stderr",
     "output_type": "stream",
     "text": [
      "Using TensorFlow backend.\n"
     ]
    }
   ],
   "source": [
    "#importing all libraries\n",
    "\n",
    "import pandas as pd\n",
    "import numpy as np\n",
    "from keras.layers import Dense, Embedding, LSTM, SpatialDropout1D\n",
    "from keras.models import Sequential\n",
    "\n",
    "#Convert a collection of text documents to a matrix of token counts\n",
    "from keras.preprocessing.text import Tokenizer\n",
    "from keras.preprocessing.sequence import pad_sequences\n",
    "from sklearn.model_selection import train_test_split\n",
    "from keras.utils.np_utils import to_categorical\n",
    "from keras.callbacks import EarlyStopping"
   ]
  },
  {
   "cell_type": "code",
   "execution_count": 2,
   "metadata": {},
   "outputs": [
    {
     "data": {
      "text/html": [
       "<div>\n",
       "<style>\n",
       "    .dataframe thead tr:only-child th {\n",
       "        text-align: right;\n",
       "    }\n",
       "\n",
       "    .dataframe thead th {\n",
       "        text-align: left;\n",
       "    }\n",
       "\n",
       "    .dataframe tbody tr th {\n",
       "        vertical-align: top;\n",
       "    }\n",
       "</style>\n",
       "<table border=\"1\" class=\"dataframe\">\n",
       "  <thead>\n",
       "    <tr style=\"text-align: right;\">\n",
       "      <th></th>\n",
       "      <th>ID</th>\n",
       "      <th>TITLE</th>\n",
       "      <th>URL</th>\n",
       "      <th>PUBLISHER</th>\n",
       "      <th>CATEGORY</th>\n",
       "      <th>STORY</th>\n",
       "      <th>HOSTNAME</th>\n",
       "      <th>TIMESTAMP</th>\n",
       "    </tr>\n",
       "  </thead>\n",
       "  <tbody>\n",
       "    <tr>\n",
       "      <th>0</th>\n",
       "      <td>1</td>\n",
       "      <td>Fed official says weak data caused by weather,...</td>\n",
       "      <td>http://www.latimes.com/business/money/la-fi-mo...</td>\n",
       "      <td>Los Angeles Times</td>\n",
       "      <td>b</td>\n",
       "      <td>ddUyU0VZz0BRneMioxUPQVP6sIxvM</td>\n",
       "      <td>www.latimes.com</td>\n",
       "      <td>1394470370698</td>\n",
       "    </tr>\n",
       "    <tr>\n",
       "      <th>1</th>\n",
       "      <td>2</td>\n",
       "      <td>Fed's Charles Plosser sees high bar for change...</td>\n",
       "      <td>http://www.livemint.com/Politics/H2EvwJSK2VE6O...</td>\n",
       "      <td>Livemint</td>\n",
       "      <td>b</td>\n",
       "      <td>ddUyU0VZz0BRneMioxUPQVP6sIxvM</td>\n",
       "      <td>www.livemint.com</td>\n",
       "      <td>1394470371207</td>\n",
       "    </tr>\n",
       "    <tr>\n",
       "      <th>2</th>\n",
       "      <td>3</td>\n",
       "      <td>US open: Stocks fall after Fed official hints ...</td>\n",
       "      <td>http://www.ifamagazine.com/news/us-open-stocks...</td>\n",
       "      <td>IFA Magazine</td>\n",
       "      <td>b</td>\n",
       "      <td>ddUyU0VZz0BRneMioxUPQVP6sIxvM</td>\n",
       "      <td>www.ifamagazine.com</td>\n",
       "      <td>1394470371550</td>\n",
       "    </tr>\n",
       "    <tr>\n",
       "      <th>3</th>\n",
       "      <td>4</td>\n",
       "      <td>Fed risks falling 'behind the curve', Charles ...</td>\n",
       "      <td>http://www.ifamagazine.com/news/fed-risks-fall...</td>\n",
       "      <td>IFA Magazine</td>\n",
       "      <td>b</td>\n",
       "      <td>ddUyU0VZz0BRneMioxUPQVP6sIxvM</td>\n",
       "      <td>www.ifamagazine.com</td>\n",
       "      <td>1394470371793</td>\n",
       "    </tr>\n",
       "    <tr>\n",
       "      <th>4</th>\n",
       "      <td>5</td>\n",
       "      <td>Fed's Plosser: Nasty Weather Has Curbed Job Gr...</td>\n",
       "      <td>http://www.moneynews.com/Economy/federal-reser...</td>\n",
       "      <td>Moneynews</td>\n",
       "      <td>b</td>\n",
       "      <td>ddUyU0VZz0BRneMioxUPQVP6sIxvM</td>\n",
       "      <td>www.moneynews.com</td>\n",
       "      <td>1394470372027</td>\n",
       "    </tr>\n",
       "  </tbody>\n",
       "</table>\n",
       "</div>"
      ],
      "text/plain": [
       "   ID                                              TITLE  \\\n",
       "0   1  Fed official says weak data caused by weather,...   \n",
       "1   2  Fed's Charles Plosser sees high bar for change...   \n",
       "2   3  US open: Stocks fall after Fed official hints ...   \n",
       "3   4  Fed risks falling 'behind the curve', Charles ...   \n",
       "4   5  Fed's Plosser: Nasty Weather Has Curbed Job Gr...   \n",
       "\n",
       "                                                 URL          PUBLISHER  \\\n",
       "0  http://www.latimes.com/business/money/la-fi-mo...  Los Angeles Times   \n",
       "1  http://www.livemint.com/Politics/H2EvwJSK2VE6O...           Livemint   \n",
       "2  http://www.ifamagazine.com/news/us-open-stocks...       IFA Magazine   \n",
       "3  http://www.ifamagazine.com/news/fed-risks-fall...       IFA Magazine   \n",
       "4  http://www.moneynews.com/Economy/federal-reser...          Moneynews   \n",
       "\n",
       "  CATEGORY                          STORY             HOSTNAME      TIMESTAMP  \n",
       "0        b  ddUyU0VZz0BRneMioxUPQVP6sIxvM      www.latimes.com  1394470370698  \n",
       "1        b  ddUyU0VZz0BRneMioxUPQVP6sIxvM     www.livemint.com  1394470371207  \n",
       "2        b  ddUyU0VZz0BRneMioxUPQVP6sIxvM  www.ifamagazine.com  1394470371550  \n",
       "3        b  ddUyU0VZz0BRneMioxUPQVP6sIxvM  www.ifamagazine.com  1394470371793  \n",
       "4        b  ddUyU0VZz0BRneMioxUPQVP6sIxvM    www.moneynews.com  1394470372027  "
      ]
     },
     "execution_count": 2,
     "metadata": {},
     "output_type": "execute_result"
    }
   ],
   "source": [
    "# importing training data\n",
    "\n",
    "path = r'C:\\Users\\Prashant\\Desktop\\Major project material\\Project\\news\\uci-news-aggregator.csv'\n",
    "\n",
    "train_data = pd.read_csv(path)\n",
    "train_data.head()"
   ]
  },
  {
   "cell_type": "code",
   "execution_count": 3,
   "metadata": {},
   "outputs": [
    {
     "data": {
      "text/plain": [
       "e    152469\n",
       "b    115967\n",
       "t    108344\n",
       "m     45639\n",
       "Name: CATEGORY, dtype: int64"
      ]
     },
     "execution_count": 3,
     "metadata": {},
     "output_type": "execute_result"
    }
   ],
   "source": [
    "# counting different value counts of each category\n",
    "train_data.CATEGORY.value_counts()"
   ]
  },
  {
   "cell_type": "code",
   "execution_count": 4,
   "metadata": {
    "collapsed": true
   },
   "outputs": [],
   "source": [
    "# balancing classes by taking random 45000 examples of each classes then shuffling entire data\n",
    "\n",
    "num_of_cat = 45000\n",
    "shuffled_data = train_data.reindex(np.random.permutation(train_data.index))\n",
    "e = shuffled_data[shuffled_data[\"CATEGORY\"]==\"e\"][:num_of_cat]\n",
    "b = shuffled_data[shuffled_data[\"CATEGORY\"]==\"b\"][:num_of_cat]\n",
    "t = shuffled_data[shuffled_data[\"CATEGORY\"]==\"t\"][:num_of_cat]\n",
    "m = shuffled_data[shuffled_data[\"CATEGORY\"]==\"m\"][:num_of_cat]\n",
    "train_data_bal = pd.concat([e,b,t,m], ignore_index = True)\n",
    "shuffled_data_bal = train_data_bal.reindex(np.random.permutation(train_data_bal.index))\n",
    "shuffled_data_bal['Label'] = 0"
   ]
  },
  {
   "cell_type": "code",
   "execution_count": 5,
   "metadata": {
    "collapsed": true
   },
   "outputs": [],
   "source": [
    "# making y: target class\n",
    "label_data = shuffled_data_bal[\"CATEGORY\"]"
   ]
  },
  {
   "cell_type": "code",
   "execution_count": 6,
   "metadata": {
    "collapsed": true
   },
   "outputs": [],
   "source": [
    "# one hot encoding of target variable\n",
    "labels = pd.get_dummies(label_data, columns = [\"CATEGORY\"], prefix = 'category')\n",
    "labels.head()\n",
    "\n",
    "X = shuffled_data_bal['TITLE']\n",
    "\n",
    "# now we will edit title section such that it contains only n most common words and filters out all puncuations\n",
    "n_most_common_words = 8000\n",
    "\n",
    "# our input text data contains headlines of news which are generally small so making max_len=20\n",
    "max_len = 20"
   ]
  },
  {
   "cell_type": "code",
   "execution_count": 7,
   "metadata": {},
   "outputs": [
    {
     "name": "stdout",
     "output_type": "stream",
     "text": [
      "[nltk_data] Downloading package punkt to\n",
      "[nltk_data]     C:\\Users\\Prashant\\AppData\\Roaming\\nltk_data...\n",
      "[nltk_data]   Package punkt is already up-to-date!\n",
      "[nltk_data] Downloading package stopwords to\n",
      "[nltk_data]     C:\\Users\\Prashant\\AppData\\Roaming\\nltk_data...\n",
      "[nltk_data]   Package stopwords is already up-to-date!\n"
     ]
    },
    {
     "data": {
      "text/plain": [
       "True"
      ]
     },
     "execution_count": 7,
     "metadata": {},
     "output_type": "execute_result"
    }
   ],
   "source": [
    "import nltk\n",
    "nltk.download('punkt')\n",
    "nltk.download('stopwords')"
   ]
  },
  {
   "cell_type": "code",
   "execution_count": 8,
   "metadata": {
    "collapsed": true
   },
   "outputs": [],
   "source": [
    "# preprocessing text for word2vec: to filter punctuatoins, lowering all words, filter stop words\n",
    "from nltk.tokenize import word_tokenize\n",
    "from nltk.corpus import stopwords\n",
    "import string\n",
    "\n",
    "review_lines = list()\n",
    "lines = X.values.tolist()\n",
    "\n",
    "for line in lines:\n",
    "    tokens = word_tokenize(line)  # breaks line into it's sub parts like each word and comma etc\n",
    "    \n",
    "    \n",
    "    #convert to lower case\n",
    "    tokens = [w.lower() for w in tokens]\n",
    "    \n",
    "    \n",
    "    #remove punctuation from each word\n",
    "    \n",
    "    table = str.maketrans('','', string.punctuation)\n",
    "    stripped = [w.translate(table) for w in tokens]\n",
    "    \n",
    "    # remove remaining tokens that are not alphabetic\n",
    "    words = [word for word in stripped if word.isalpha()]\n",
    "    \n",
    "    \n",
    "    # filter out stop words\n",
    "    stop_words = set(stopwords.words('english'))\n",
    "    words = [w for w in words if not w in stop_words]\n",
    "    review_lines.append(words)"
   ]
  },
  {
   "cell_type": "code",
   "execution_count": 9,
   "metadata": {},
   "outputs": [
    {
     "name": "stderr",
     "output_type": "stream",
     "text": [
      "C:\\Users\\Prashant\\Anaconda3\\lib\\site-packages\\gensim\\utils.py:1197: UserWarning: detected Windows; aliasing chunkize to chunkize_serial\n",
      "  warnings.warn(\"detected Windows; aliasing chunkize to chunkize_serial\")\n"
     ]
    },
    {
     "name": "stdout",
     "output_type": "stream",
     "text": [
      "vocab size: 42286\n"
     ]
    }
   ],
   "source": [
    "# training word2vec on preprecessed text data\n",
    "import gensim\n",
    "\n",
    "# size is size of the embedding vector\n",
    "\n",
    "embedding_vector_size = 50\n",
    "model = gensim.models.Word2Vec(sentences = review_lines, size=embedding_vector_size, min_count=1, window=5, workers=4 )\n",
    "\n",
    "# to get total number of unique words\n",
    "words = list(model.wv.vocab)\n",
    "\n",
    "print(\"vocab size:\", len(words))"
   ]
  },
  {
   "cell_type": "code",
   "execution_count": 10,
   "metadata": {
    "collapsed": true
   },
   "outputs": [],
   "source": [
    "#  converting preprocessed text data to numeric form to input in our model\n",
    "\n",
    "tokenizer = Tokenizer()\n",
    "X = review_lines\n",
    "tokenizer.fit_on_texts(X)\n",
    "sequences = tokenizer.texts_to_sequences(X) # gives each word an index based on most occuring and filters top 8000 words \n",
    "X = pad_sequences(sequences, maxlen=max_len) # pads 0 in front of each example"
   ]
  },
  {
   "cell_type": "code",
   "execution_count": 11,
   "metadata": {
    "collapsed": true
   },
   "outputs": [],
   "source": [
    "# preparing embedding matrix for embedding layer\n",
    "\n",
    "\n",
    "# create a weight matrix for all unique words in training set\n",
    "vocab_size = len(tokenizer.word_index) + 1\n",
    "embedding_matrix = np.zeros((vocab_size, embedding_vector_size))\n",
    "for word, i in tokenizer.word_index.items():\n",
    "\tembedding_vector = model.wv[word]\n",
    "\tif embedding_vector is not None:\n",
    "\t\tembedding_matrix[i] = embedding_vector\n"
   ]
  },
  {
   "cell_type": "code",
   "execution_count": 12,
   "metadata": {
    "collapsed": true
   },
   "outputs": [],
   "source": [
    "# splitting training and test data\n",
    "\n",
    "X_train, X_test, y_train, y_test = train_test_split(X , labels, test_size=0.25, random_state=42)"
   ]
  },
  {
   "cell_type": "code",
   "execution_count": 13,
   "metadata": {},
   "outputs": [
    {
     "name": "stdout",
     "output_type": "stream",
     "text": [
      "_________________________________________________________________\n",
      "Layer (type)                 Output Shape              Param #   \n",
      "=================================================================\n",
      "embedding_1 (Embedding)      (None, 20, 50)            2114350   \n",
      "_________________________________________________________________\n",
      "spatial_dropout1d_1 (Spatial (None, 20, 50)            0         \n",
      "_________________________________________________________________\n",
      "lstm_1 (LSTM)                (None, 64)                29440     \n",
      "_________________________________________________________________\n",
      "dense_1 (Dense)              (None, 4)                 260       \n",
      "=================================================================\n",
      "Total params: 2,144,050\n",
      "Trainable params: 2,144,050\n",
      "Non-trainable params: 0\n",
      "_________________________________________________________________\n",
      "None\n",
      "Train on 108000 samples, validate on 27000 samples\n",
      "Epoch 1/50\n",
      "108000/108000 [==============================] - 109s 1ms/step - loss: 1.0899 - acc: 0.5255 - val_loss: 0.5523 - val_acc: 0.7980\n",
      "Epoch 2/50\n",
      "108000/108000 [==============================] - 106s 983us/step - loss: 0.8672 - acc: 0.6522 - val_loss: 0.4647 - val_acc: 0.8270\n",
      "Epoch 3/50\n",
      "108000/108000 [==============================] - 107s 989us/step - loss: 0.7463 - acc: 0.7091 - val_loss: 0.4220 - val_acc: 0.8451\n",
      "Epoch 4/50\n",
      "108000/108000 [==============================] - 106s 985us/step - loss: 0.6629 - acc: 0.7484 - val_loss: 0.3803 - val_acc: 0.8633\n",
      "Epoch 5/50\n",
      "108000/108000 [==============================] - 100s 925us/step - loss: 0.5920 - acc: 0.7784 - val_loss: 0.3669 - val_acc: 0.8705\n",
      "Epoch 6/50\n",
      "108000/108000 [==============================] - 101s 933us/step - loss: 0.5392 - acc: 0.8015 - val_loss: 0.3435 - val_acc: 0.8830\n",
      "Epoch 7/50\n",
      "108000/108000 [==============================] - 100s 928us/step - loss: 0.4958 - acc: 0.8182 - val_loss: 0.3262 - val_acc: 0.8908\n",
      "Epoch 8/50\n",
      "108000/108000 [==============================] - 106s 985us/step - loss: 0.4522 - acc: 0.8368 - val_loss: 0.3157 - val_acc: 0.8970\n",
      "Epoch 9/50\n",
      "108000/108000 [==============================] - 102s 942us/step - loss: 0.4244 - acc: 0.8483 - val_loss: 0.3077 - val_acc: 0.9013\n",
      "Epoch 10/50\n",
      "108000/108000 [==============================] - 103s 956us/step - loss: 0.3935 - acc: 0.8610 - val_loss: 0.2945 - val_acc: 0.9064\n",
      "Epoch 11/50\n",
      "108000/108000 [==============================] - 104s 962us/step - loss: 0.3698 - acc: 0.8685 - val_loss: 0.2914 - val_acc: 0.9102\n",
      "Epoch 12/50\n",
      "108000/108000 [==============================] - 101s 939us/step - loss: 0.3523 - acc: 0.8768 - val_loss: 0.2771 - val_acc: 0.9147\n",
      "Epoch 13/50\n",
      "108000/108000 [==============================] - 102s 948us/step - loss: 0.3350 - acc: 0.8827 - val_loss: 0.2705 - val_acc: 0.9166\n",
      "Epoch 14/50\n",
      "108000/108000 [==============================] - 102s 948us/step - loss: 0.3179 - acc: 0.8899 - val_loss: 0.2650 - val_acc: 0.9189\n",
      "Epoch 15/50\n",
      "108000/108000 [==============================] - 102s 947us/step - loss: 0.3070 - acc: 0.8939 - val_loss: 0.2621 - val_acc: 0.9209\n",
      "Epoch 16/50\n",
      "108000/108000 [==============================] - 103s 952us/step - loss: 0.2925 - acc: 0.8993 - val_loss: 0.2551 - val_acc: 0.9244\n",
      "Epoch 17/50\n",
      "108000/108000 [==============================] - 101s 938us/step - loss: 0.2825 - acc: 0.9039 - val_loss: 0.2509 - val_acc: 0.9255\n",
      "Epoch 18/50\n",
      "108000/108000 [==============================] - 101s 937us/step - loss: 0.2724 - acc: 0.9070 - val_loss: 0.2494 - val_acc: 0.9277\n",
      "Epoch 19/50\n",
      "108000/108000 [==============================] - 103s 951us/step - loss: 0.2627 - acc: 0.9112 - val_loss: 0.2424 - val_acc: 0.9290\n",
      "Epoch 20/50\n",
      "108000/108000 [==============================] - 102s 941us/step - loss: 0.2537 - acc: 0.9140 - val_loss: 0.2423 - val_acc: 0.9300\n",
      "Epoch 21/50\n",
      "108000/108000 [==============================] - 101s 939us/step - loss: 0.2480 - acc: 0.9158 - val_loss: 0.2420 - val_acc: 0.9314\n",
      "Epoch 22/50\n",
      "108000/108000 [==============================] - 103s 951us/step - loss: 0.2390 - acc: 0.9189 - val_loss: 0.2419 - val_acc: 0.9321\n",
      "Epoch 23/50\n",
      "108000/108000 [==============================] - 102s 948us/step - loss: 0.2311 - acc: 0.9219 - val_loss: 0.2428 - val_acc: 0.9328\n",
      "Epoch 24/50\n",
      "108000/108000 [==============================] - 97s 902us/step - loss: 0.2274 - acc: 0.9231 - val_loss: 0.2387 - val_acc: 0.9334\n",
      "Epoch 25/50\n",
      "108000/108000 [==============================] - 95s 884us/step - loss: 0.2233 - acc: 0.9249 - val_loss: 0.2375 - val_acc: 0.9344\n",
      "Epoch 26/50\n",
      "108000/108000 [==============================] - 97s 901us/step - loss: 0.2167 - acc: 0.9267 - val_loss: 0.2376 - val_acc: 0.9339\n",
      "Epoch 27/50\n",
      "108000/108000 [==============================] - 95s 879us/step - loss: 0.2111 - acc: 0.9288 - val_loss: 0.2371 - val_acc: 0.9342\n",
      "Epoch 28/50\n",
      "108000/108000 [==============================] - 98s 904us/step - loss: 0.2096 - acc: 0.9296 - val_loss: 0.2331 - val_acc: 0.9353\n",
      "Epoch 29/50\n",
      "108000/108000 [==============================] - 98s 904us/step - loss: 0.2026 - acc: 0.9324 - val_loss: 0.2370 - val_acc: 0.9347\n",
      "Epoch 30/50\n",
      "108000/108000 [==============================] - 98s 905us/step - loss: 0.2004 - acc: 0.9326 - val_loss: 0.2277 - val_acc: 0.9351\n",
      "Epoch 31/50\n",
      "108000/108000 [==============================] - 98s 912us/step - loss: 0.1980 - acc: 0.9335 - val_loss: 0.2271 - val_acc: 0.9364\n",
      "Epoch 32/50\n",
      "108000/108000 [==============================] - 101s 934us/step - loss: 0.1921 - acc: 0.9362 - val_loss: 0.2301 - val_acc: 0.9360\n",
      "Epoch 33/50\n",
      "108000/108000 [==============================] - 96s 888us/step - loss: 0.1902 - acc: 0.9362 - val_loss: 0.2288 - val_acc: 0.9366\n",
      "Epoch 34/50\n",
      "108000/108000 [==============================] - 98s 904us/step - loss: 0.1864 - acc: 0.9378 - val_loss: 0.2282 - val_acc: 0.9365\n",
      "Epoch 35/50\n",
      "108000/108000 [==============================] - 97s 900us/step - loss: 0.1831 - acc: 0.9392 - val_loss: 0.2295 - val_acc: 0.9360\n",
      "Epoch 36/50\n",
      "108000/108000 [==============================] - 97s 895us/step - loss: 0.1830 - acc: 0.9385 - val_loss: 0.2284 - val_acc: 0.9366\n",
      "Epoch 37/50\n",
      "108000/108000 [==============================] - 98s 906us/step - loss: 0.1780 - acc: 0.9405 - val_loss: 0.2266 - val_acc: 0.9368\n",
      "Epoch 38/50\n",
      "108000/108000 [==============================] - 97s 901us/step - loss: 0.1770 - acc: 0.9409 - val_loss: 0.2254 - val_acc: 0.9373\n",
      "Epoch 39/50\n",
      "108000/108000 [==============================] - 96s 893us/step - loss: 0.1758 - acc: 0.9417 - val_loss: 0.2276 - val_acc: 0.9369\n",
      "Epoch 40/50\n",
      "108000/108000 [==============================] - 96s 889us/step - loss: 0.1701 - acc: 0.9437 - val_loss: 0.2262 - val_acc: 0.9374\n",
      "Epoch 41/50\n",
      "108000/108000 [==============================] - 97s 897us/step - loss: 0.1699 - acc: 0.9432 - val_loss: 0.2304 - val_acc: 0.9375\n",
      "Epoch 42/50\n",
      "108000/108000 [==============================] - 98s 908us/step - loss: 0.1663 - acc: 0.9450 - val_loss: 0.2307 - val_acc: 0.9375\n",
      "Epoch 43/50\n",
      "108000/108000 [==============================] - 98s 904us/step - loss: 0.1649 - acc: 0.9450 - val_loss: 0.2287 - val_acc: 0.9373\n",
      "Epoch 44/50\n",
      "108000/108000 [==============================] - 97s 899us/step - loss: 0.1625 - acc: 0.9457 - val_loss: 0.2282 - val_acc: 0.9386\n",
      "Epoch 45/50\n",
      "108000/108000 [==============================] - 96s 889us/step - loss: 0.1626 - acc: 0.9459 - val_loss: 0.2251 - val_acc: 0.9381\n",
      "Epoch 46/50\n",
      "108000/108000 [==============================] - 96s 885us/step - loss: 0.1585 - acc: 0.9475 - val_loss: 0.2226 - val_acc: 0.9388\n",
      "Epoch 47/50\n",
      "108000/108000 [==============================] - 97s 901us/step - loss: 0.1601 - acc: 0.9470 - val_loss: 0.2256 - val_acc: 0.9385\n",
      "Epoch 48/50\n",
      "108000/108000 [==============================] - 97s 898us/step - loss: 0.1563 - acc: 0.9479 - val_loss: 0.2291 - val_acc: 0.9395\n",
      "Epoch 49/50\n",
      "108000/108000 [==============================] - 94s 875us/step - loss: 0.1540 - acc: 0.9488 - val_loss: 0.2243 - val_acc: 0.9393\n",
      "Epoch 50/50\n",
      "108000/108000 [==============================] - 98s 908us/step - loss: 0.1542 - acc: 0.9494 - val_loss: 0.2245 - val_acc: 0.9386\n"
     ]
    }
   ],
   "source": [
    "# building the RNN model\n",
    "\n",
    "model2 = Sequential()\n",
    "\n",
    "n_most_common_words = 8000\n",
    "model2.add(Embedding(input_dim = vocab_size, output_dim = embedding_vector_size, input_length = max_len, weights=[embedding_matrix]))\n",
    "model2.add(SpatialDropout1D(0.7))\n",
    "model2.add(LSTM(64, dropout=0.7, recurrent_dropout=0.7))\n",
    "model2.add(Dense(4, activation='softmax'))\n",
    "model2.compile(optimizer='adam', loss='categorical_crossentropy', metrics=['acc'])\n",
    "print(model2.summary())\n",
    "\n",
    "history = model2.fit(X_train, y_train, epochs = 50, batch_size = 100, validation_split=0.2,callbacks=[EarlyStopping(monitor='val_loss',patience=7, min_delta=0.0001)])\n",
    "\n"
   ]
  },
  {
   "cell_type": "code",
   "execution_count": 14,
   "metadata": {},
   "outputs": [
    {
     "name": "stdout",
     "output_type": "stream",
     "text": [
      "45000/45000 [==============================] - 7s 147us/step\n",
      "Test set\n",
      "  Loss: 0.2299162778802216\n",
      "  Accuracy: 0.9385111111111111\n"
     ]
    }
   ],
   "source": [
    "accr = model2.evaluate(X_test,y_test)\n",
    "print('Test set\\n  Loss: {}\\n  Accuracy: {}'.format(accr[0],accr[1]))"
   ]
  },
  {
   "cell_type": "code",
   "execution_count": 16,
   "metadata": {},
   "outputs": [
    {
     "data": {
      "image/png": "[encoded data removed]",
      "text/plain": [
       "<matplotlib.figure.Figure at 0x1ef27210588>"
      ]
     },
     "metadata": {},
     "output_type": "display_data"
    },
    {
     "data": {
      "image/png": "[encoded data removed]",
      "text/plain": [
       "<matplotlib.figure.Figure at 0x1ef351a3048>"
      ]
     },
     "metadata": {},
     "output_type": "display_data"
    }
   ],
   "source": [
    "# plotting training and test set accuracy and loss\n",
    "import matplotlib.pyplot as plt\n",
    "\n",
    "epochs = range(1,51)\n",
    "acc = history.history['acc']\n",
    "val_acc = history.history['val_acc']\n",
    "loss = history.history['loss']\n",
    "val_loss = history.history['val_loss']\n",
    "\n",
    "plt.plot(epochs, acc, 'bo', label='Training acc')\n",
    "plt.plot(epochs, val_acc, 'b', label='Validation acc')\n",
    "plt.title('Training and validation accuracy')\n",
    "plt.legend()\n",
    "\n",
    "plt.figure()\n",
    "\n",
    "plt.plot(epochs, loss, 'bo', label='Training loss')\n",
    "plt.plot(epochs, val_loss, 'b', label='Validation loss')\n",
    "plt.title('Training and validation loss')\n",
    "plt.legend()\n",
    "\n",
    "plt.show()"
   ]
  },
  {
   "cell_type": "code",
   "execution_count": null,
   "metadata": {
    "collapsed": true
   },
   "outputs": [],
   "source": []
  },
  {
   "cell_type": "code",
   "execution_count": null,
   "metadata": {
    "collapsed": true
   },
   "outputs": [],
   "source": []
  }
 ],
 "metadata": {
  "kernelspec": {
   "display_name": "Python 3",
   "language": "python",
   "name": "python3"
  },
  "language_info": {
   "codemirror_mode": {
    "name": "ipython",
    "version": 3
   },
   "file_extension": ".py",
   "mimetype": "text/x-python",
   "name": "python",
   "nbconvert_exporter": "python",
   "pygments_lexer": "ipython3",
   "version": "3.6.2"
  }
 },
 "nbformat": 4,
 "nbformat_minor": 2
}
